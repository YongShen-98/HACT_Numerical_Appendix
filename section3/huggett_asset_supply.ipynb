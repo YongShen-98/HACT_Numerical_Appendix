{
 "cells": [
  {
   "cell_type": "code",
   "execution_count": 67,
   "metadata": {},
   "outputs": [],
   "source": [
    "import copy\n",
    "import numpy as np\n",
    "import scipy.sparse\n",
    "import scipy.sparse.linalg\n",
    "s = 2\n",
    "rho = 0.05\n",
    "z1 = .1\n",
    "z2 = .2\n",
    "z = np.array([z1,z2])\n",
    "la1 = 1.5\n",
    "la2 = 1\n",
    "la = np.array([la1,la2])\n",
    "I = 500\n",
    "amin = -0.15\n",
    "amax = 10\n",
    "a=np.linspace(amin, amax, I)\n",
    "da=(amax-amin)/(I-1)\n",
    "aa=np.array([a,a]).T\n",
    "zz=np.ones((I,1))*z\n",
    "\n",
    "maxit= 100\n",
    "Delta = 40\n",
    "crit = 10**(-6)\n",
    "\n",
    "dVf = np.zeros((I,2))\n",
    "dVb = np.zeros((I,2))\n",
    "c=np.zeros((I,2))\n",
    "\n",
    "Aswitch1 = scipy.sparse.hstack([-scipy.sparse.eye(I)*la[0], scipy.sparse.eye(I)*la[0]])\n",
    "Aswitch2 = scipy.sparse.hstack([scipy.sparse.eye(I)*la[1], -scipy.sparse.eye(I)*la[1]])\n",
    "Aswitch = scipy.sparse.vstack([Aswitch1, Aswitch2])\n",
    "\n",
    "Ir = 20\n",
    "rmin = -0.05\n",
    "rmax = 0.04\n",
    "r_gird = np.linspace(rmin, rmax, Ir)\n",
    "\n",
    "\"\"\" \n",
    "Initial data\n",
    "\"\"\"\n",
    "r = r_gird[0]\n",
    "v01 = (z[0]+max(r,0.01)*a)**(1-s)/(1-s)/rho\n",
    "v02 = (z[1]+max(r,0.01)*a)**(1-s)/(1-s)/rho\n",
    "v0=np.array([v01,v02]).T\n",
    "v=copy.deepcopy(v0)\n",
    "\n",
    "\"\"\" \n",
    "save results: S(r)\n",
    "\"\"\"\n",
    "S = np.zeros(Ir)\n",
    "\n",
    "## set convergent conditions\n",
    "dist = np.zeros(maxit)\n"
   ]
  },
  {
   "cell_type": "code",
   "execution_count": 68,
   "metadata": {},
   "outputs": [
    {
     "name": "stdout",
     "output_type": "stream",
     "text": [
      "Value function is converged. Iteration is: 17\n",
      "Value function is converged. Iteration is: 12\n",
      "Value function is converged. Iteration is: 12\n"
     ]
    },
    {
     "name": "stderr",
     "output_type": "stream",
     "text": [
      "c:\\ProgramData\\Anaconda3\\envs\\new\\lib\\site-packages\\scipy\\sparse\\_index.py:146: SparseEfficiencyWarning: Changing the sparsity structure of a csc_matrix is expensive. lil_matrix is more efficient.\n",
      "  self._set_arrayXarray(i, j, x)\n"
     ]
    },
    {
     "name": "stdout",
     "output_type": "stream",
     "text": [
      "Value function is converged. Iteration is: 12\n",
      "Value function is converged. Iteration is: 12\n",
      "Value function is converged. Iteration is: 12\n",
      "Value function is converged. Iteration is: 12\n",
      "Value function is converged. Iteration is: 12\n",
      "Value function is converged. Iteration is: 12\n",
      "Value function is converged. Iteration is: 12\n",
      "Value function is converged. Iteration is: 12\n",
      "Value function is converged. Iteration is: 12\n",
      "Value function is converged. Iteration is: 11\n",
      "Value function is converged. Iteration is: 11\n",
      "Value function is converged. Iteration is: 11\n",
      "Value function is converged. Iteration is: 11\n",
      "Value function is converged. Iteration is: 11\n",
      "Value function is converged. Iteration is: 12\n",
      "Value function is converged. Iteration is: 13\n",
      "Value function is converged. Iteration is: 13\n"
     ]
    }
   ],
   "source": [
    "for ir in range(Ir):\n",
    "    v=copy.deepcopy(v0)\n",
    "    r = r_gird[ir]\n",
    "    if ir>0:\n",
    "        v = copy.deepcopy(V)\n",
    "    for n in range(maxit):\n",
    "        V = copy.deepcopy(v)\n",
    "        ## forward difference method eq.(8)\n",
    "        dVf[0:I-1,:] = (V[1:I,:]-V[0:I-1,:])/da\n",
    "        dVf[I-1,:] = 1 ## never be used, but set 1 make sure there is no exception\n",
    "        ## backward difference method eq.(8)\n",
    "        dVb[1:I,:] = (V[1:I,:]-V[0:I-1,:])/da\n",
    "        dVb[0,:] = (z+r*amin)**(-s)\n",
    "        ## consumption and savings with forward difference     u=x^(1-s)/1-s  => (u')^-1: x^(-1/s) \n",
    "        cf = dVf**(-1/s)\n",
    "        sf = zz + r*aa - cf\n",
    "        ## consumption and savings with backward difference\n",
    "        cb = dVb**(-1/s)\n",
    "        sb = zz + r*aa - cb\n",
    "        ## consumption and derivative of value function at steady state\n",
    "        c0 = zz + r*aa\n",
    "        dV0 = c0**(-s)\n",
    "        ## the indicator of upwind scheme \n",
    "        If = np.where(sf>0, 1, 0)\n",
    "        Ib = np.where(sb<0, 1, 0)\n",
    "        I0 = (1-If-Ib)     ## sijF<0<sijB\n",
    "        dV_Upwind = dVf*If + dVb*Ib + dV0*I0\n",
    "        ## compute c and u\n",
    "        c = dV_Upwind**(-1/s)\n",
    "        u = c**(1-s)/(1-s)\n",
    "        ## CONSTRUCT MATRIX\n",
    "        X = -np.minimum(sb,0)/da\n",
    "        Y = -np.maximum(sf,0)/da + np.minimum(sb,0)/da\n",
    "        Z = np.maximum(sf,0)/da\n",
    "        A1 = scipy.sparse.spdiags(Y[:,0],0,I,I)+scipy.sparse.spdiags(X[1:,0],-1,I,I)+scipy.sparse.spdiags(np.concatenate([np.array([0]),Z[:,0]]),1,I,I)\n",
    "        A2 = scipy.sparse.spdiags(Y[:,1],0,I,I)+scipy.sparse.spdiags(X[1:,1],-1,I,I)+scipy.sparse.spdiags(np.concatenate([np.array([0]),Z[:,1]]),1,I,I)\n",
    "        A = scipy.sparse.vstack([scipy.sparse.hstack([A1, scipy.sparse.csc_matrix((I,I))]), scipy.sparse.hstack([scipy.sparse.csc_matrix((I,I)), A2])]) + Aswitch\n",
    "        B = (rho + 1/Delta)*scipy.sparse.eye(2*I) - A\n",
    "        u_stacked = np.vstack((u[:,0].reshape((I,1)), u[:,1].reshape((I,1))))\n",
    "        V_stacked = np.vstack([V[:,0].reshape((I,1)), V[:,1].reshape((I,1))])\n",
    "        b = u_stacked + V_stacked/Delta\n",
    "        V_stacked = scipy.sparse.linalg.spsolve(B, b)\n",
    "        V[:,0] = np.squeeze(V_stacked[0:I])\n",
    "        V[:,1] = np.squeeze(V_stacked[I:])\n",
    "        Vchange = V - v\n",
    "        v=copy.deepcopy(V)\n",
    "        dist[n] = np.max(np.abs(Vchange))\n",
    "        if dist[n] < crit:\n",
    "            break\n",
    "    print(\"Value function is converged. Iteration is:\", n)\n",
    "    AT = A.T \n",
    "    b = np.zeros((2*I,1))\n",
    "    \"\"\" \n",
    "    consider page 9. We need to fix g[i,j]=0.1 (for an arbitrary (i,j)).\n",
    "    Fixing it can be solved by setting one element from the 0 of eq(20) ATg=0 to be 0.1\n",
    "    For convenience, we set g[0,j] = 0.1 \n",
    "    \"\"\"\n",
    "    i_fix = 0\n",
    "    b[i_fix] = 0.1\n",
    "    row = np.zeros(I*2)\n",
    "    row[i_fix] = 1\n",
    "    AT[i_fix,:] = row\n",
    "\n",
    "    \"\"\" \n",
    "    solve eq(20) ATg=0\n",
    "    \"\"\"\n",
    "    gg = scipy.sparse.linalg.spsolve(AT, b)\n",
    "    gg_sum = gg.T @ np.ones((2*I,1)) * da\n",
    "    gg = gg/gg_sum\n",
    "    g1 = gg[0:I]\n",
    "    g2 = gg[I:]\n",
    "\n",
    "    ## compute S(r)\n",
    "    S[ir] = g1@a*da + g2@a*da\n"
   ]
  },
  {
   "cell_type": "code",
   "execution_count": 69,
   "metadata": {},
   "outputs": [
    {
     "data": {
      "text/plain": [
       "[<matplotlib.lines.Line2D at 0x1db8114cb50>]"
      ]
     },
     "execution_count": 69,
     "metadata": {},
     "output_type": "execute_result"
    },
    {
     "data": {
      "image/png": "[encoded data removed]",
      "text/plain": [
       "<Figure size 640x480 with 1 Axes>"
      ]
     },
     "metadata": {},
     "output_type": "display_data"
    }
   ],
   "source": [
    "import matplotlib.pyplot as plt\n",
    "plt.plot(S, r_gird)"
   ]
  },
  {
   "cell_type": "code",
   "execution_count": null,
   "metadata": {},
   "outputs": [],
   "source": []
  }
 ],
 "metadata": {
  "kernelspec": {
   "display_name": "new",
   "language": "python",
   "name": "python3"
  },
  "language_info": {
   "codemirror_mode": {
    "name": "ipython",
    "version": 3
   },
   "file_extension": ".py",
   "mimetype": "text/x-python",
   "name": "python",
   "nbconvert_exporter": "python",
   "pygments_lexer": "ipython3",
   "version": "3.10.6"
  }
 },
 "nbformat": 4,
 "nbformat_minor": 2
}
