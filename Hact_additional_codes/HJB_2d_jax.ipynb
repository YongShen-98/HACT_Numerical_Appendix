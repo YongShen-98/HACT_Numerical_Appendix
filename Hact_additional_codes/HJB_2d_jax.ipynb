{
 "cells": [
  {
   "cell_type": "code",
   "execution_count": 186,
   "metadata": {},
   "outputs": [],
   "source": [
    "import jax\n",
    "import jax.numpy as jnp\n",
    "import scipy.sparse\n",
    "import scipy.sparse.linalg\n",
    "from jax import config\n",
    "config.update(\"jax_enable_x64\", True)\n",
    "import matplotlib.pyplot as plt"
   ]
  },
  {
   "cell_type": "code",
   "execution_count": 187,
   "metadata": {},
   "outputs": [],
   "source": [
    "s = 2\n",
    "r = 0.03\n",
    "rho = 0.05\n",
    "Var = 0.07\n",
    "\n",
    "I = 100\n",
    "amin = -0.02\n",
    "amax = 4\n",
    "a = jnp.linspace(amin,amax,I).reshape((I,1))\n",
    "da = (amax-amin)/(I-1)\n",
    "\n",
    "J = 40\n",
    "zmean = jnp.exp(Var/2)\n",
    "Corr = 0.9\n",
    "the = -jnp.log(Corr)\n",
    "sig2 = 2*the*Var\n",
    "zmin = zmean*0.8\n",
    "zmax = zmean*1.2\n",
    "z = jnp.linspace(zmin,zmax,J).reshape((1,J))\n",
    "dz = (zmax-zmin)/(J-1)\n",
    "dz2 = dz**2\n",
    "\n",
    "mu = (-the * jnp.log(z) + sig2/2)*z\n",
    "s2 = sig2*z**2\n",
    "\n",
    "dt = 0.01"
   ]
  },
  {
   "cell_type": "code",
   "execution_count": 188,
   "metadata": {},
   "outputs": [],
   "source": [
    "def computechi():\n",
    "    return -jnp.minimum(mu,0)/dz + s2/(2*dz2)\n",
    "chi = computechi()\n",
    "#chi.shape = (1,J)"
   ]
  },
  {
   "cell_type": "code",
   "execution_count": 189,
   "metadata": {},
   "outputs": [],
   "source": [
    "def computeyy():\n",
    "    return jnp.minimum(mu,0)/dz - jnp.maximum(mu,0)/dz - s2/dz2\n",
    "yy = computeyy()\n",
    "#yy.shape = (1,J)"
   ]
  },
  {
   "cell_type": "code",
   "execution_count": 190,
   "metadata": {},
   "outputs": [],
   "source": [
    "def computezeta():\n",
    "    return jnp.maximum(mu,0)/dz + s2/(2*dz2)\n",
    "zeta = computezeta()\n",
    "# zeta.shape = (1,J)"
   ]
  },
  {
   "cell_type": "code",
   "execution_count": 191,
   "metadata": {},
   "outputs": [],
   "source": [
    "## compute C\n",
    "updiag = jnp.tile(zeta[0,0], (I,1))\n",
    "for j in range(1,J-1):\n",
    "    updiag = jnp.vstack((updiag, jnp.tile(zeta[0,j], (I,1))))\n",
    "updiag = jnp.diag(updiag[:,0],k=I)\n",
    "\n",
    "centdiag = jnp.tile(chi[0,0]+yy[0,0],(I,1))\n",
    "for j in range(1,J-1):\n",
    "    centdiag = jnp.vstack((centdiag, jnp.tile(yy[0,j], (I,1))))\n",
    "centdiag = jnp.vstack((centdiag, jnp.tile(yy[0,J-1]+zeta[0,J-1], (I,1))))\n",
    "centdiag = jnp.diag(centdiag[:,0])\n",
    "\n",
    "lowdiag = jnp.tile(chi[0,1], (I,1))\n",
    "for j in range(2,J):\n",
    "    lowdiag = jnp.vstack((lowdiag, jnp.tile(chi[0,j], (I,1))))\n",
    "lowdiag = jnp.diag(lowdiag[:,0], k=-I)\n",
    "\n",
    "C = lowdiag+centdiag+updiag"
   ]
  },
  {
   "cell_type": "code",
   "execution_count": 192,
   "metadata": {},
   "outputs": [],
   "source": [
    "def computeVaf(V):\n",
    "    Vaf = (V[1:I,:]-V[0:I-1,:])/da\n",
    "    re = (z + r*amax)**(-s)\n",
    "    Vaf = jnp.vstack([Vaf,re.reshape((40,))])\n",
    "    return Vaf\n",
    "def computeVab(V):    \n",
    "    Vab = (V[1:I,:]-V[0:I-1,:])/da\n",
    "    re = (z + r*amin)**(-s) \n",
    "    Vab = jnp.vstack([re.reshape((40,)),Vab])\n",
    "    return Vab"
   ]
  },
  {
   "cell_type": "code",
   "execution_count": 193,
   "metadata": {},
   "outputs": [],
   "source": [
    "def computesf(Vaf):\n",
    "    cf = Vaf**(-1/s)\n",
    "    return z + r*a - cf\n",
    "def computesb(Vab):\n",
    "    cb = Vab**(-1/s)\n",
    "    return z + r*a - cb"
   ]
  },
  {
   "cell_type": "code",
   "execution_count": 194,
   "metadata": {},
   "outputs": [],
   "source": [
    "def computec(Vaf,Vab):\n",
    "    sf = computesf(Vaf)\n",
    "    sb = computesb(Vab)\n",
    "    c0 = z + r*a\n",
    "    Va0 = c0**(-s)\n",
    "    If = jnp.where(sf>0, 1, 0)\n",
    "    Ib = jnp.where(sb<0, 1, 0)\n",
    "    I0 = (1-If-Ib)\n",
    "    Va_Upwind = Vaf*If + Vab*Ib + Va0*I0\n",
    "    c = Va_Upwind**(-1/s)\n",
    "    return c\n",
    "\n",
    "def computeu(c):\n",
    "    return c**(1-s)/(1-s)"
   ]
  },
  {
   "cell_type": "code",
   "execution_count": 195,
   "metadata": {},
   "outputs": [],
   "source": [
    "def constructA(Vaf,Vab):\n",
    "    sf = computesf(Vaf)\n",
    "    sb = computesb(Vab)\n",
    "    X = -jnp.minimum(sb,0)/da   \n",
    "    Y = -jnp.maximum(sf,0)/da + jnp.minimum(sb,0)/da\n",
    "    Z = jnp.maximum(sf,0)/da\n",
    "    \n",
    "    Z = Z.reshape(-1,order='F')\n",
    "    A_up = jnp.diag(Z[0:-1],k=1)\n",
    "\n",
    "    Y = Y.reshape(-1,order='F')\n",
    "    A_diag = jnp.diag(Y,k=0)\n",
    "\n",
    "    X = X.reshape(-1,order='F')\n",
    "    A_down = jnp.diag(X[1:],k=-1)\n",
    "    \n",
    "    AA = A_down + A_diag + A_up\n",
    "    Cswitch = C\n",
    "    A = AA + Cswitch\n",
    "    return A"
   ]
  },
  {
   "cell_type": "code",
   "execution_count": 196,
   "metadata": {},
   "outputs": [],
   "source": [
    "def T_withtime(Vaf,Vab,V):\n",
    "    \"\"\" \n",
    "    equation:\n",
    "        rhov(t,a,z) = maxu(c)+v_a(t,a,z)(z+ra-c)+mu(z)v_z(t,a,z)+sigma^2(z)/2v_zz(t,a,z)+v_t(t,a,z)\n",
    "    scheme:\n",
    "        (rho+1/dt-A)v^n = u^{n+1}+(1/dt)v^{n+1}\n",
    "    \"\"\"\n",
    "    A = constructA(Vaf,Vab)\n",
    "    B = (rho+1/dt)*jnp.eye(I*J)-A\n",
    "    c = computec(Vaf,Vab)\n",
    "    u = computeu(c)\n",
    "    u_stack = u.reshape(-1,order='F')\n",
    "    V_stack = V.reshape(-1,order='F')\n",
    "    b = u_stack + V_stack/dt\n",
    "    v = jax.scipy.linalg.solve(B,b)\n",
    "    return v\n",
    "\n",
    "T_withtime_jit = jax.jit(T_withtime)"
   ]
  },
  {
   "cell_type": "code",
   "execution_count": 197,
   "metadata": {},
   "outputs": [
    {
     "name": "stdout",
     "output_type": "stream",
     "text": [
      "CPU times: total: 0 ns\n",
      "Wall time: 0 ns\n",
      "90\n",
      "80\n",
      "70\n",
      "60\n",
      "50\n",
      "40\n",
      "30\n",
      "20\n",
      "10\n",
      "0\n"
     ]
    }
   ],
   "source": [
    "## terminal condition\n",
    "v = (z + r*a)**(1-s)/(1-s)/rho\n",
    "Nt = 100\n",
    "for ti in range(Nt-2,-1,-1):\n",
    "        Vaf = computeVaf(v)\n",
    "        Vab = computeVab(v)\n",
    "        v = T_withtime(Vaf,Vab,v)\n",
    "        v = v.reshape((I,J), order='F')\n",
    "        if ti % 10 == 0: print(ti)"
   ]
  },
  {
   "cell_type": "code",
   "execution_count": 198,
   "metadata": {},
   "outputs": [
    {
     "name": "stdout",
     "output_type": "stream",
     "text": [
      "90\n",
      "80\n",
      "70\n",
      "60\n",
      "50\n",
      "40\n",
      "30\n",
      "20\n",
      "10\n",
      "0\n"
     ]
    }
   ],
   "source": [
    "## terminal condition\n",
    "v = (z + r*a)**(1-s)/(1-s)/rho\n",
    "Nt = 100\n",
    "for ti in range(Nt-2,-1,-1):\n",
    "        Vaf = computeVaf(v)\n",
    "        Vab = computeVab(v)\n",
    "        v = T_withtime_jit(Vaf,Vab,v)\n",
    "        v = v.reshape((I,J), order='F')\n",
    "        if ti % 10 == 0: print(ti)"
   ]
  },
  {
   "cell_type": "code",
   "execution_count": 199,
   "metadata": {},
   "outputs": [
    {
     "data": {
      "text/plain": [
       "<matplotlib.legend.Legend at 0x21708dad910>"
      ]
     },
     "execution_count": 199,
     "metadata": {},
     "output_type": "execute_result"
    },
    {
     "data": {
      "image/png": "[encoded data removed]",
      "text/plain": [
       "<Figure size 640x480 with 1 Axes>"
      ]
     },
     "metadata": {},
     "output_type": "display_data"
    }
   ],
   "source": [
    "plt.plot(z[0,:],v[-1,:], label='initial')\n",
    "plt.legend()"
   ]
  },
  {
   "cell_type": "code",
   "execution_count": null,
   "metadata": {},
   "outputs": [],
   "source": []
  }
 ],
 "metadata": {
  "kernelspec": {
   "display_name": "base",
   "language": "python",
   "name": "python3"
  },
  "language_info": {
   "codemirror_mode": {
    "name": "ipython",
    "version": 3
   },
   "file_extension": ".py",
   "mimetype": "text/x-python",
   "name": "python",
   "nbconvert_exporter": "python",
   "pygments_lexer": "ipython3",
   "version": "3.11.7"
  }
 },
 "nbformat": 4,
 "nbformat_minor": 2
}
